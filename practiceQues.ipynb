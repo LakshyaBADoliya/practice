{
 "cells": [
  {
   "cell_type": "code",
   "execution_count": 2,
   "id": "821a057b-8f0a-46fd-a2b0-ef023ed92df7",
   "metadata": {},
   "outputs": [
    {
     "name": "stdout",
     "output_type": "stream",
     "text": [
      "12.12\n"
     ]
    }
   ],
   "source": [
    "float=12.12121\n",
    "print(f\"{float:.2f}\")"
   ]
  },
  {
   "cell_type": "code",
   "execution_count": 3,
   "id": "ee9307a9-21ba-4c7c-b115-2ee53e4ff8df",
   "metadata": {},
   "outputs": [
    {
     "name": "stdin",
     "output_type": "stream",
     "text": [
      "enter a number 6996\n"
     ]
    },
    {
     "name": "stdout",
     "output_type": "stream",
     "text": [
      "NO\n"
     ]
    }
   ],
   "source": [
    "num=int(input('enter a number'))\n",
    "sum_of_digits=0\n",
    "num_digits=len(str(num))\n",
    "for digit_char in str(num):\n",
    "    digit=int(digit_char)\n",
    "    sum_of_digits+=digit**num_digits\n",
    "if num == sum_of_digits:\n",
    "    print(\"Yes!Armstrong Number\")\n",
    "else:\n",
    "    print(\"NO\")"
   ]
  },
  {
   "cell_type": "code",
   "execution_count": 4,
   "id": "958313df-5142-438a-b3fc-0e4fa6ca8856",
   "metadata": {},
   "outputs": [
    {
     "name": "stdin",
     "output_type": "stream",
     "text": [
      "Number:  9\n"
     ]
    },
    {
     "name": "stdout",
     "output_type": "stream",
     "text": [
      "[1, 3]\n"
     ]
    }
   ],
   "source": [
    "num=int(input(\"Number: \"))\n",
    "list=[]\n",
    "for i in range(1,num):\n",
    "    if(num%i==0):\n",
    "        list.append(i)\n",
    "print(list)"
   ]
  },
  {
   "cell_type": "code",
   "execution_count": 5,
   "id": "4698efde-14af-4f32-8112-e9ce96e38ac2",
   "metadata": {},
   "outputs": [
    {
     "name": "stdin",
     "output_type": "stream",
     "text": [
      "Enter Radius:  9\n",
      "Enter heigth:  5\n"
     ]
    },
    {
     "name": "stdout",
     "output_type": "stream",
     "text": [
      "Volume:  1271.7\n"
     ]
    }
   ],
   "source": [
    "\n",
    "r=int(input(\"Enter Radius: \"))\n",
    "h=int(input(\"Enter heigth: \"))\n",
    "print(\"Volume: \",3.14*r**2*h)\n",
    "\n"
   ]
  },
  {
   "cell_type": "code",
   "execution_count": 6,
   "id": "d769b794-8cfa-4ae9-87db-f6e968777cac",
   "metadata": {},
   "outputs": [
    {
     "name": "stdin",
     "output_type": "stream",
     "text": [
      "Enter a number:  87\n",
      "Enter a number:  45\n",
      "Enter a number:  07\n"
     ]
    },
    {
     "name": "stdout",
     "output_type": "stream",
     "text": [
      "9643\n"
     ]
    }
   ],
   "source": [
    "n1=int(input(\"Enter a number: \"))\n",
    "n2=int(input(\"Enter a number: \"))\n",
    "n3=int(input(\"Enter a number: \"))\n",
    "print(n1*n1+ n2*n2+n3*n3)"
   ]
  },
  {
   "cell_type": "code",
   "execution_count": 7,
   "id": "746bb9c1-e8df-48c9-b727-3a64547255e0",
   "metadata": {},
   "outputs": [
    {
     "name": "stdout",
     "output_type": "stream",
     "text": [
      "2 1\n"
     ]
    }
   ],
   "source": [
    "a=1\n",
    "b=2\n",
    "a=a+b\n",
    "b=a-b\n",
    "a=a-b\n",
    "print(a,b)"
   ]
  },
  {
   "cell_type": "code",
   "execution_count": 9,
   "id": "4f40a77a-7e8a-4ece-9704-f24f46e341e0",
   "metadata": {},
   "outputs": [
    {
     "name": "stdin",
     "output_type": "stream",
     "text": [
      "enter num:  87\n"
     ]
    },
    {
     "name": "stdout",
     "output_type": "stream",
     "text": [
      "['7', '8']\n"
     ]
    }
   ],
   "source": [
    "num=input(\"enter num: \")\n",
    "list=[]\n",
    "for i in str(num):\n",
    "    list.append(i)\n",
    "print(list[::-1])\n",
    "    "
   ]
  },
  {
   "cell_type": "code",
   "execution_count": 10,
   "id": "5a2c193f-6b25-41f3-92f1-7585e46dc191",
   "metadata": {},
   "outputs": [
    {
     "name": "stdin",
     "output_type": "stream",
     "text": [
      "Enter a number:  90\n",
      "Enter a number:  78\n",
      "Enter a number:  56\n"
     ]
    },
    {
     "name": "stdout",
     "output_type": "stream",
     "text": [
      "Sum of digits:  224\n"
     ]
    }
   ],
   "source": [
    "\n",
    "n1=int(input(\"Enter a number: \"))\n",
    "n2=int(input(\"Enter a number: \"))\n",
    "n3=int(input(\"Enter a number: \"))\n",
    "print(\"Sum of digits: \",n1+n2+n3)\n"
   ]
  },
  {
   "cell_type": "code",
   "execution_count": null,
   "id": "7cfe8104-3d52-4b03-a1be-d3a844638bdd",
   "metadata": {},
   "outputs": [],
   "source": []
  }
 ],
 "metadata": {
  "kernelspec": {
   "display_name": "Python 3 (ipykernel)",
   "language": "python",
   "name": "python3"
  },
  "language_info": {
   "codemirror_mode": {
    "name": "ipython",
    "version": 3
   },
   "file_extension": ".py",
   "mimetype": "text/x-python",
   "name": "python",
   "nbconvert_exporter": "python",
   "pygments_lexer": "ipython3",
   "version": "3.11.4"
  }
 },
 "nbformat": 4,
 "nbformat_minor": 5
}
